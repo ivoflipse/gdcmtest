{
 "cells": [
  {
   "cell_type": "code",
   "execution_count": 1,
   "metadata": {
    "collapsed": false
   },
   "outputs": [],
   "source": [
    "%matplotlib notebook\n",
    "import numpy as np\n",
    "import gdcm\n",
    "import matplotlib.pyplot as plt\n",
    "import matplotlib.cm as cm\n",
    "import sys\n",
    "import dicom"
   ]
  },
  {
   "cell_type": "code",
   "execution_count": 32,
   "metadata": {
    "collapsed": true
   },
   "outputs": [],
   "source": [
    "def gdcm_to_numpy(image):\n",
    "    \"\"\" Converts a GDCM image to a numpy array.\n",
    "    :param image: GDCM.ImageReader.GetImage()\n",
    "    \n",
    "    From: https://github.com/neurosnap/mudicom/blob/master/mudicom/image.py\n",
    "    \"\"\"\n",
    "    gdcm_typemap = {\n",
    "        gdcm.PixelFormat.INT8:     np.int8,\n",
    "        gdcm.PixelFormat.UINT8:    np.uint8,\n",
    "        gdcm.PixelFormat.UINT16:   np.uint16,\n",
    "        gdcm.PixelFormat.INT16:    np.int16,\n",
    "        gdcm.PixelFormat.UINT32:   np.uint32,\n",
    "        gdcm.PixelFormat.INT32:    np.int32,\n",
    "        gdcm.PixelFormat.FLOAT32:  np.float32,\n",
    "        gdcm.PixelFormat.FLOAT64:  np.float64\n",
    "    }\n",
    "    pixel_format = image.GetPixelFormat().GetScalarType()\n",
    "    if pixel_format in gdcm_typemap:\n",
    "        data_type = gdcm_typemap[pixel_format]\n",
    "    else:\n",
    "        raise KeyError('{} is not a supported pixel format'.format(pixel_format))\n",
    "    \n",
    "    dimensions = image.GetDimension(1), image.GetDimension(0)\n",
    "    gdcm_array = image.GetBuffer()\n",
    "    \n",
    "    # if GDCM indicates that a byte swap is in order, make sure to inform numpy as well\n",
    "    if image.GetNeedByteSwap():\n",
    "        data_type.newbyteorder('S')\n",
    "\n",
    "    # GDCM returns char* as type str. This converts it to type bytes\n",
    "    if sys.version_info >= (3, 0):\n",
    "        gdcm_array = gdcm_array.encode(sys.getfilesystemencoding(), \"surrogateescape\")\n",
    "\n",
    "    # use float for accurate scaling\n",
    "    dimensions = image.GetDimensions()\n",
    "    result = np.frombuffer(gdcm_array, dtype=data_type)\n",
    "    \n",
    "    # FIXME: compare with pydicom's reshaping strategy\n",
    "    # https://github.com/darcymason/pydicom/blob/b440b5aa674cbffa47c083420fb41069d1487d93/pydicom/dataset.py#L403-L422\n",
    "    if len(dimensions) == 3:\n",
    "        # for cine (animations) there are 3 dims: x, y, number of frames\n",
    "        result.shape = dimensions[2], dimensions[0], dimensions[1]\n",
    "    else:\n",
    "        result.shape = dimensions\n",
    "    return result\n",
    "\n",
    "def get_pixel_data(filepath):\n",
    "    \"\"\" Grabs image data and converts it to a numpy array \"\"\"\n",
    "    image_reader = gdcm.ImageReader()\n",
    "    image_reader.SetFileName(filepath)\n",
    "    if not image_reader.Read():\n",
    "        raise IOError(\"Could not read DICOM image\")\n",
    "    pixel_array = gdcm_to_numpy(image_reader.GetImage())\n",
    "    return pixel_array"
   ]
  },
  {
   "cell_type": "code",
   "execution_count": 35,
   "metadata": {
    "collapsed": false
   },
   "outputs": [],
   "source": [
    "filenames = [r\"dicom\\compressed_ct\\EE0BC09D\", \n",
    "             r\"dicom\\compressed_ct\\EE0D46CA\",\n",
    "             r\"dicom\\compressed_mr\\IM-0001-0001.dcm\",\n",
    "             r\"dicom\\compressed_mr\\IM-0001-0002.dcm\",\n",
    "             r\"dicom\\oai_xrays\\001\",\n",
    "             r\"dicom\\oai_xrays\\002\"]"
   ]
  },
  {
   "cell_type": "code",
   "execution_count": 36,
   "metadata": {
    "collapsed": false,
    "scrolled": false
   },
   "outputs": [],
   "source": [
    "for filename in filenames:\n",
    "    fig, (ax1, ax2) = plt.subplots(1, 2, sharey=True)\n",
    "    fig.suptitle(filename)\n",
    "    \n",
    "    # GDCM\n",
    "    ax1.set_title('GDCM')\n",
    "    pixel_array = get_pixel_data(filename)\n",
    "    ax1.imshow(pixel_array.T, cmap=cm.gray)\n",
    "\n",
    "    # pydicom\n",
    "    ax2.set_title('pydicom')\n",
    "    try:\n",
    "        dicom_file = dicom.read_file(filename)\n",
    "        ax2.imshow(dicom_file.pixel_array.T, cmap=cm.gray)\n",
    "    except NotImplementedError as e:\n",
    "        ax2.set_axis_bgcolor('red')\n",
    "        "
   ]
  },
  {
   "cell_type": "code",
   "execution_count": null,
   "metadata": {
    "collapsed": true
   },
   "outputs": [],
   "source": []
  }
 ],
 "metadata": {
  "kernelspec": {
   "display_name": "Python 3",
   "language": "python",
   "name": "python3"
  },
  "language_info": {
   "codemirror_mode": {
    "name": "ipython",
    "version": 3
   },
   "file_extension": ".py",
   "mimetype": "text/x-python",
   "name": "python",
   "nbconvert_exporter": "python",
   "pygments_lexer": "ipython3",
   "version": "3.5.0"
  }
 },
 "nbformat": 4,
 "nbformat_minor": 0
}